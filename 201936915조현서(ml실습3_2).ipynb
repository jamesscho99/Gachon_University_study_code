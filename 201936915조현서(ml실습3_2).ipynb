{
  "nbformat": 4,
  "nbformat_minor": 0,
  "metadata": {
    "colab": {
      "provenance": []
    },
    "kernelspec": {
      "name": "python3",
      "display_name": "Python 3"
    },
    "language_info": {
      "name": "python"
    }
  },
  "cells": [
    {
      "cell_type": "markdown",
      "source": [
        "# Raisin_Dataset 데이터 (class 제외)\n",
        "* label == Perimeter"
      ],
      "metadata": {
        "id": "vYAcom0-nTnh"
      }
    },
    {
      "cell_type": "code",
      "source": [
        "from google.colab import drive\n",
        "drive.mount('/content/drive')"
      ],
      "metadata": {
        "colab": {
          "base_uri": "https://localhost:8080/"
        },
        "id": "QpUS3W9go7I9",
        "outputId": "c7c4dbba-91b2-4935-bebd-fbab040363f5"
      },
      "execution_count": 1,
      "outputs": [
        {
          "output_type": "stream",
          "name": "stdout",
          "text": [
            "Mounted at /content/drive\n"
          ]
        }
      ]
    },
    {
      "cell_type": "code",
      "source": [
        "import pandas as pd\n",
        "import numpy as np\n",
        "import matplotlib.pyplot as plt"
      ],
      "metadata": {
        "id": "FaSeHc3eo7jM"
      },
      "execution_count": 2,
      "outputs": []
    },
    {
      "cell_type": "code",
      "source": [
        "raisin  = pd.read_excel('/content/drive/MyDrive/Raisin_Dataset.xlsx')"
      ],
      "metadata": {
        "id": "VKiGXQS1o7g_"
      },
      "execution_count": 3,
      "outputs": []
    },
    {
      "cell_type": "code",
      "source": [
        "raisin.columns"
      ],
      "metadata": {
        "colab": {
          "base_uri": "https://localhost:8080/"
        },
        "id": "uMgiX5Jvo7eg",
        "outputId": "37272b57-98ee-4a2a-e09c-a12dfb227ca9"
      },
      "execution_count": 4,
      "outputs": [
        {
          "output_type": "execute_result",
          "data": {
            "text/plain": [
              "Index(['Area', 'MajorAxisLength', 'MinorAxisLength', 'Eccentricity',\n",
              "       'ConvexArea', 'Extent', 'Perimeter', 'Class'],\n",
              "      dtype='object')"
            ]
          },
          "metadata": {},
          "execution_count": 4
        }
      ]
    },
    {
      "cell_type": "code",
      "source": [
        "y = raisin['Perimeter']"
      ],
      "metadata": {
        "id": "aOd9zLpio7b7"
      },
      "execution_count": 5,
      "outputs": []
    },
    {
      "cell_type": "code",
      "source": [
        "X = raisin.drop(['Perimeter','Class'],axis = 1)"
      ],
      "metadata": {
        "id": "t9uE9uoRpHk0"
      },
      "execution_count": 6,
      "outputs": []
    },
    {
      "cell_type": "code",
      "source": [
        "from sklearn.model_selection import train_test_split\n",
        "X_train,X_test,y_train,y_test = train_test_split(X,y,test_size=0.2,random_state=423)\n",
        "from sklearn.metrics import mean_squared_error\n",
        "from sklearn.metrics import confusion_matrix"
      ],
      "metadata": {
        "id": "7NEtxeJjpQ1X"
      },
      "execution_count": 7,
      "outputs": []
    },
    {
      "cell_type": "code",
      "source": [
        "from sklearn.ensemble import RandomForestRegressor\n",
        "\n",
        "rf_clf = RandomForestRegressor()\n",
        "rf_clf.fit(X_train, y_train)\n",
        "\n",
        "pred_rf = rf_clf.predict(X_test)\n",
        "\n",
        "print(rf_clf.score(X_train, y_train))\n",
        "\n",
        "mse = np.sqrt(mean_squared_error(pred_rf, y_test))\n",
        "print('평균제곱근오차', mse)"
      ],
      "metadata": {
        "colab": {
          "base_uri": "https://localhost:8080/"
        },
        "id": "cWALsQhgpWrx",
        "outputId": "9e61c667-e1a8-465e-9fd2-29bbc082bb32"
      },
      "execution_count": 8,
      "outputs": [
        {
          "output_type": "stream",
          "name": "stdout",
          "text": [
            "0.9980342494519198\n",
            "평균제곱근오차 35.557827418915835\n"
          ]
        }
      ]
    },
    {
      "cell_type": "code",
      "source": [
        "from sklearn.tree import DecisionTreeRegressor\n",
        "\n",
        "clf_dt = DecisionTreeRegressor()\n",
        "clf_dt.fit(X_train, y_train)\n",
        "\n",
        "pred_dt = clf_dt.predict(X_test)\n",
        "\n",
        "print(clf_dt.score(X_train, y_train))\n",
        "\n",
        "mse = np.sqrt(mean_squared_error(pred_dt, y_test))\n",
        "print('평균제곱근오차', mse)"
      ],
      "metadata": {
        "colab": {
          "base_uri": "https://localhost:8080/"
        },
        "id": "lOSZpnTdpWpb",
        "outputId": "201810d2-ff2b-4cfb-f8ed-559d634cb0ea"
      },
      "execution_count": 9,
      "outputs": [
        {
          "output_type": "stream",
          "name": "stdout",
          "text": [
            "1.0\n",
            "평균제곱근오차 43.55801747548256\n"
          ]
        }
      ]
    },
    {
      "cell_type": "code",
      "source": [
        "from sklearn.svm import SVR\n",
        "\n",
        "clf_svm = SVR()\n",
        "clf_svm.fit(X_train, y_train)\n",
        "\n",
        "pred_svm = clf_svm.predict(X_test)\n",
        "\n",
        "print(clf_svm.score(X_train, y_train))\n",
        "\n",
        "mse = np.sqrt(mean_squared_error(pred_svm, y_test))\n",
        "print('평균제곱근오차', mse)"
      ],
      "metadata": {
        "colab": {
          "base_uri": "https://localhost:8080/"
        },
        "id": "B4SVvMJFpWnF",
        "outputId": "5b82fec5-439f-4de6-d248-3560e675bfa0"
      },
      "execution_count": 10,
      "outputs": [
        {
          "output_type": "stream",
          "name": "stdout",
          "text": [
            "0.5201805006443138\n",
            "평균제곱근오차 181.51802843833502\n"
          ]
        }
      ]
    },
    {
      "cell_type": "code",
      "source": [
        "from sklearn.linear_model import LinearRegression\n",
        "\n",
        "clf_lr = LinearRegression()\n",
        "clf_lr.fit(X_train, y_train)\n",
        "\n",
        "pred_lr = clf_lr.predict(X_test)\n",
        "\n",
        "print(clf_lr.score(X_train, y_train))\n",
        "\n",
        "mse = np.sqrt(mean_squared_error(pred_lr, y_test))\n",
        "print('평균제곱근오차', mse)"
      ],
      "metadata": {
        "colab": {
          "base_uri": "https://localhost:8080/"
        },
        "id": "XpqbfLK2pWk3",
        "outputId": "068a5174-9e8f-404e-8b25-debbdef8bb3b"
      },
      "execution_count": 11,
      "outputs": [
        {
          "output_type": "stream",
          "name": "stdout",
          "text": [
            "0.9950625530744553\n",
            "평균제곱근오차 23.818145942809842\n"
          ]
        }
      ]
    },
    {
      "cell_type": "code",
      "source": [],
      "metadata": {
        "id": "wJXV4fUJpWiT"
      },
      "execution_count": 11,
      "outputs": []
    }
  ]
}